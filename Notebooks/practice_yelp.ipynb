{
 "cells": [
  {
   "cell_type": "markdown",
   "id": "3547ff1a",
   "metadata": {},
   "source": [
    "- create Yelp user account\n",
    "- create an [App](https://www.yelp.com/developers/v3/manage_app) - once created, Yelp will assign a `Client ID` and `API Key`\n",
    "- save your credentials somewhere safe\n",
    "- use the awesome article [here](https://towardsdatascience.com/getting-started-with-the-yelp-api-ac30915a77ae#906d) to guide you on using the [YelpAPI](https://github.com/gfairchild/yelpapi) package"
   ]
  },
  {
   "cell_type": "code",
   "execution_count": null,
   "id": "8d5b7107",
   "metadata": {},
   "outputs": [],
   "source": [
    "from yelpapi import YelpAPI\n",
    "import pandas as pd\n",
    "import json\n",
    "import requests"
   ]
  },
  {
   "cell_type": "code",
   "execution_count": null,
   "id": "ea277991",
   "metadata": {
    "scrolled": true
   },
   "outputs": [],
   "source": [
    "with open('keys.json') as fi:\n",
    "    credentials = json.load(fi)"
   ]
  },
  {
   "cell_type": "code",
   "execution_count": null,
   "id": "9f987f70",
   "metadata": {},
   "outputs": [],
   "source": [
    "api_key = credentials['yelp_key']"
   ]
  },
  {
   "cell_type": "code",
   "execution_count": null,
   "id": "f09773a7",
   "metadata": {},
   "outputs": [],
   "source": [
    "client_id = credentials['yelp_id']"
   ]
  },
  {
   "cell_type": "code",
   "execution_count": null,
   "id": "c5a9d2cd",
   "metadata": {},
   "outputs": [],
   "source": [
    "url = 'https://api.yelp.com/v3/businesses/search'\n",
    "headers = { 'Authorization': 'Bearer %s' % api_key}"
   ]
  },
  {
   "cell_type": "code",
   "execution_count": null,
   "id": "40f3e2ff",
   "metadata": {},
   "outputs": [],
   "source": [
    "parameters = {'location': 'Nashville,TN',\n",
    "              'term': 'park',\n",
    "              'radius': 32187,\n",
    "              'limit': 40}"
   ]
  },
  {
   "cell_type": "code",
   "execution_count": null,
   "id": "9ef96bca",
   "metadata": {},
   "outputs": [],
   "source": [
    "response = requests.get(url, headers = headers, params = parameters)\n",
    "response"
   ]
  },
  {
   "cell_type": "code",
   "execution_count": null,
   "id": "4a62df54",
   "metadata": {
    "scrolled": false
   },
   "outputs": [],
   "source": [
    "response.json()"
   ]
  },
  {
   "cell_type": "code",
   "execution_count": null,
   "id": "e2cb8ad2",
   "metadata": {},
   "outputs": [],
   "source": []
  },
  {
   "cell_type": "code",
   "execution_count": null,
   "id": "c23d4f77",
   "metadata": {},
   "outputs": [],
   "source": [
    "yelp_api = YelpAPI(api_key)\n",
    "response = yelp_api.search_query(term = 'park', location = 'Nashville, TN', search_limit = 100)"
   ]
  },
  {
   "cell_type": "code",
   "execution_count": null,
   "id": "5604a541",
   "metadata": {},
   "outputs": [],
   "source": [
    "response"
   ]
  }
 ],
 "metadata": {
  "kernelspec": {
   "display_name": "Python 3 (ipykernel)",
   "language": "python",
   "name": "python3"
  },
  "language_info": {
   "codemirror_mode": {
    "name": "ipython",
    "version": 3
   },
   "file_extension": ".py",
   "mimetype": "text/x-python",
   "name": "python",
   "nbconvert_exporter": "python",
   "pygments_lexer": "ipython3",
   "version": "3.8.5"
  }
 },
 "nbformat": 4,
 "nbformat_minor": 5
}
