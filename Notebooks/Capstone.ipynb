{
 "cells": [
  {
   "cell_type": "code",
   "execution_count": null,
   "id": "74291c56",
   "metadata": {},
   "outputs": [],
   "source": [
    "import pandas as pd\n",
    "import re \n",
    "import numpy as np\n",
    "import matplotlib.pyplot as plt\n",
    "import seaborn as sns\n",
    "import fnmatch\n",
    "from yelpapi import YelpAPI\n",
    "import json\n",
    "from decimal import *\n",
    "from pathlib import Path\n",
    "\n",
    "%matplotlib inline"
   ]
  },
  {
   "cell_type": "code",
   "execution_count": null,
   "id": "746a0081",
   "metadata": {
    "scrolled": false
   },
   "outputs": [],
   "source": [
    "pov_data = pd.read_excel('../Data/poverty_rates.xlsx', sheet_name = 'Percents', header = 2)\n",
    "pov_data\n",
    "\n",
    "#bringing in data from census"
   ]
  },
  {
   "cell_type": "code",
   "execution_count": null,
   "id": "07c59e42",
   "metadata": {
    "scrolled": false
   },
   "outputs": [],
   "source": [
    "pov_data.info()   #making sure numbers are the correct type"
   ]
  },
  {
   "cell_type": "code",
   "execution_count": null,
   "id": "e4c8eddf",
   "metadata": {
    "scrolled": true
   },
   "outputs": [],
   "source": [
    "pov_data[['Cheatham County, TN', 'Error', 'Davidson County, TN', 'Error.1', 'Dickson County, TN', 'Error.2', 'Maury County, TN', 'Error.3', 'Montgomery County, TN', 'Error.4', 'Robertson County, TN', 'Error.5', 'Rutherford County, TN', 'Error.6', 'Sumner County, TN', 'Error.7', 'Williamson County, TN', 'Error.8', 'Wilson County, TN', 'Error.9']] = pov_data[['Cheatham County, TN', 'Error', 'Davidson County, TN', 'Error.1', 'Dickson County, TN', 'Error.2', 'Maury County, TN', 'Error.3', 'Montgomery County, TN', 'Error.4', 'Robertson County, TN', 'Error.5', 'Rutherford County, TN', 'Error.6', 'Sumner County, TN', 'Error.7', 'Williamson County, TN', 'Error.8', 'Wilson County, TN', 'Error.9']].apply(lambda x: x*100)\n",
    "pov_data\n",
    "\n",
    "#updating column titles"
   ]
  },
  {
   "cell_type": "code",
   "execution_count": null,
   "id": "930c9c70",
   "metadata": {
    "scrolled": false
   },
   "outputs": [],
   "source": [
    "pov_data.round(2)  #rounding numbers to 2 decimal places"
   ]
  },
  {
   "cell_type": "code",
   "execution_count": null,
   "id": "4167fb56",
   "metadata": {
    "scrolled": false
   },
   "outputs": [],
   "source": [
    "pov_data.drop(columns = ['Error', 'Error.1', 'Error.2', 'Error.3', 'Error.4', 'Error.5', 'Error.6', 'Error.7', 'Error.8', 'Error.9',])"
   ]
  },
  {
   "cell_type": "code",
   "execution_count": null,
   "id": "107b470b",
   "metadata": {},
   "outputs": [],
   "source": [
    "pov_data.to_csv('C:/Users/kahar/Documents/NSS/Capstone/low_cost_family_activities/Data/pov.csv')"
   ]
  },
  {
   "cell_type": "code",
   "execution_count": null,
   "id": "ca84d249",
   "metadata": {},
   "outputs": [],
   "source": [
    "with open('keys.json') as fi:\n",
    "    credentials = json.load(fi)\n",
    "    \n",
    "#calling in yelp api and secret id"
   ]
  },
  {
   "cell_type": "code",
   "execution_count": null,
   "id": "87d6976e",
   "metadata": {},
   "outputs": [],
   "source": [
    "api_key = credentials['yelp_key']\n",
    "client_id = credentials['yelp_id']\n",
    "yelp_api = YelpAPI(api_key)"
   ]
  },
  {
   "cell_type": "code",
   "execution_count": null,
   "id": "38b9f19d",
   "metadata": {},
   "outputs": [],
   "source": [
    "locations = ['Cheatham County, TN', 'Davidson County, TN', 'Dickson County, TN', 'Maury County, TN', 'Montgomery County, TN', 'Robertson County, TN', 'Rutherford County, TN', 'Sumner County, TN', 'Williamson County, TN', 'Wilson County, TN']\n",
    "group = np.arange(0,500,20)\n",
    "parks = []\n",
    "\n",
    "for location in locations:\n",
    "    for x in group:\n",
    "        response = yelp_api.search_query(term = 'park', location = location, search_limit = 20, offset = x)\n",
    "        parks.append(response)\n",
    "        print(len(parks))\n",
    "        \n",
    "#creating loop. made list of locations to run through. group is how many time to run through for the offset (only gives 20\n",
    "# without offset changing). created list of parks to store found results in. \n",
    "#loop goes through to find parks in all the locations listed and is going through yelp until reaching the 500 limit\n",
    "#then appending it to add it each loop to the parks list.\n",
    "#printing list to check that it is changing after each loop"
   ]
  },
  {
   "cell_type": "code",
   "execution_count": null,
   "id": "eaa2570b",
   "metadata": {},
   "outputs": [],
   "source": [
    "parks[1]     #checking to see what the parks list looks like. It is a list of dicts of 20 parks"
   ]
  },
  {
   "cell_type": "code",
   "execution_count": null,
   "id": "e950434b",
   "metadata": {},
   "outputs": [],
   "source": [
    "parks_df = pd.DataFrame()\n",
    "\n",
    "for park in range(len(parks)):\n",
    "    df = pd.DataFrame(parks[park]['businesses'])\n",
    "    parks_df = parks_df.append(df)\n",
    "    print(parks_df.shape)\n",
    "    \n",
    "#creating a df for response to go into\n",
    "#looking for parks in the range of the length of parks\n",
    "#putting each dict within park into a df\n",
    "#then appending parks_df so each dict that was turned into a df goes into the new parks_df each loop\n",
    "#printing shape to see that it is grabbing more dicts from parks"
   ]
  },
  {
   "cell_type": "code",
   "execution_count": null,
   "id": "b8b78a51",
   "metadata": {
    "scrolled": true
   },
   "outputs": [],
   "source": [
    "parks_df   #checking to ensure it is a df and running correctly/how many rows"
   ]
  },
  {
   "cell_type": "code",
   "execution_count": null,
   "id": "1015dff1",
   "metadata": {
    "scrolled": true
   },
   "outputs": [],
   "source": [
    "parks_df = parks_df.reset_index(drop=True)    #reset index and dropped previous index so it did not become a column\n",
    "parks_df"
   ]
  },
  {
   "cell_type": "code",
   "execution_count": null,
   "id": "4f22034f",
   "metadata": {
    "scrolled": true
   },
   "outputs": [],
   "source": [
    "parks_df[parks_df.duplicated(subset = 'name', keep = 'first')]"
   ]
  },
  {
   "cell_type": "code",
   "execution_count": null,
   "id": "48256d74",
   "metadata": {},
   "outputs": [],
   "source": [
    "parks_df[parks_df['name']== 'Shelby Park']   #checking random park to see if duplicates should be deleted\n",
    "                                             #did this with a few parks. all have multiple repeats"
   ]
  },
  {
   "cell_type": "code",
   "execution_count": null,
   "id": "a548adc9",
   "metadata": {},
   "outputs": [],
   "source": [
    "parks_df = parks_df.drop_duplicates(subset = 'name', keep = 'first')  #dropping duplicate name and keeping first occurence\n",
    "parks_df"
   ]
  },
  {
   "cell_type": "code",
   "execution_count": null,
   "id": "90696dd9",
   "metadata": {
    "scrolled": false
   },
   "outputs": [],
   "source": [
    "parks_df = parks_df.reset_index(drop=True)    #reset index and dropped previous index so it did not become a column\n",
    "parks_df"
   ]
  },
  {
   "cell_type": "code",
   "execution_count": null,
   "id": "e7568098",
   "metadata": {},
   "outputs": [],
   "source": [
    "parks_df[305:350]"
   ]
  },
  {
   "cell_type": "code",
   "execution_count": null,
   "id": "cb68a292",
   "metadata": {
    "scrolled": false
   },
   "outputs": [],
   "source": [
    "parks_df = parks_df.drop([27,61,69,86,98,112,117,121,127,133,145,149,150,152,161,163,175,176,183,185,186,192,194,201,203,208,210,215,217,222,229,230,237,239,243,254,255,257,258,259,260,261,266,267,270,271,272,281,285,287,296,297,298,299,300,301,302,313,315,316,320,330,334,341,342,345])\n",
    "parks_df"
   ]
  },
  {
   "cell_type": "code",
   "execution_count": null,
   "id": "14ec9b91",
   "metadata": {},
   "outputs": [],
   "source": [
    "parks_df = parks_df.reset_index(drop=True)    #reset index and dropped previous index so it did not become a column\n",
    "parks_df"
   ]
  },
  {
   "cell_type": "code",
   "execution_count": null,
   "id": "acd8bd15",
   "metadata": {
    "scrolled": false
   },
   "outputs": [],
   "source": [
    "parks_df['category'] = 'park'\n",
    "parks_df"
   ]
  },
  {
   "cell_type": "code",
   "execution_count": null,
   "id": "08642d6d",
   "metadata": {},
   "outputs": [],
   "source": [
    "parks_df.to_csv('C:/Users/kahar/Documents/NSS/Capstone/low_cost_family_activities/Data/yelp_parks.csv')"
   ]
  },
  {
   "cell_type": "code",
   "execution_count": null,
   "id": "55da5779",
   "metadata": {},
   "outputs": [],
   "source": [
    "#now will repeat similar process to gather other activites for families in the 10 counties"
   ]
  },
  {
   "cell_type": "code",
   "execution_count": null,
   "id": "d8cbc929",
   "metadata": {},
   "outputs": [],
   "source": [
    "locations = ['Cheatham County, TN', 'Davidson County, TN', 'Dickson County, TN', 'Maury County, TN', 'Montgomery County, TN', 'Robertson County, TN', 'Rutherford County, TN', 'Sumner County, TN', 'Williamson County, TN', 'Wilson County, TN']\n",
    "group = np.arange(0,500,20)\n",
    "museums = []\n",
    "\n",
    "for location in locations:\n",
    "    for x in group:\n",
    "        response = yelp_api.search_query(term = 'museums', location = location, search_limit = 20, offset = x)\n",
    "        museums.append(response)\n",
    "        print(len(museums))"
   ]
  },
  {
   "cell_type": "code",
   "execution_count": null,
   "id": "cf02cca2",
   "metadata": {},
   "outputs": [],
   "source": [
    "museums_df = pd.DataFrame()\n",
    "\n",
    "for museum in range(len(museums)):\n",
    "    df = pd.DataFrame(museums[museum]['businesses'])\n",
    "    museums_df = museums_df.append(df)\n",
    "    print(museums_df.shape)"
   ]
  },
  {
   "cell_type": "code",
   "execution_count": null,
   "id": "4f14eb66",
   "metadata": {
    "scrolled": true
   },
   "outputs": [],
   "source": [
    "museums_df"
   ]
  },
  {
   "cell_type": "code",
   "execution_count": null,
   "id": "eeefa835",
   "metadata": {},
   "outputs": [],
   "source": [
    "museums_df = museums_df.reset_index(drop=True)   \n",
    "museums_df"
   ]
  },
  {
   "cell_type": "code",
   "execution_count": null,
   "id": "2c5a6d76",
   "metadata": {},
   "outputs": [],
   "source": [
    "museums_df[museums_df.duplicated(subset = 'name', keep = 'first')]"
   ]
  },
  {
   "cell_type": "code",
   "execution_count": null,
   "id": "0646602e",
   "metadata": {},
   "outputs": [],
   "source": [
    "museums_df = museums_df.drop_duplicates(subset = 'name', keep = 'first')  \n",
    "museums_df"
   ]
  },
  {
   "cell_type": "code",
   "execution_count": null,
   "id": "f2829a69",
   "metadata": {},
   "outputs": [],
   "source": [
    "museums_df = museums_df.reset_index(drop=True)    #reset index and dropped previous index so it did not become a column\n",
    "museums_df"
   ]
  },
  {
   "cell_type": "code",
   "execution_count": null,
   "id": "b4a76de9",
   "metadata": {
    "scrolled": false
   },
   "outputs": [],
   "source": [
    "museums_df = museums_df.drop([18,21,35,45,49,54,62,65,69,83,85,86,89,96,97,102,104,105,106,107,108,109,110,111,112,113,115,117,120,121,124,126,127,128,130,131,132,133,134,135,138,139,140,141,142,156,164,165,166,171,172,173])\n",
    "museums_df\n",
    "#removing all rows that are not museums"
   ]
  },
  {
   "cell_type": "code",
   "execution_count": null,
   "id": "55e61d1e",
   "metadata": {},
   "outputs": [],
   "source": [
    "museums_df = museums_df.reset_index(drop=True)    #reset index and dropped previous index so it did not become a column\n",
    "museums_df"
   ]
  },
  {
   "cell_type": "code",
   "execution_count": null,
   "id": "26abd9c5",
   "metadata": {},
   "outputs": [],
   "source": [
    "museums_df['category'] = 'museum/landmark'\n",
    "museums_df"
   ]
  },
  {
   "cell_type": "code",
   "execution_count": null,
   "id": "f24d853d",
   "metadata": {},
   "outputs": [],
   "source": [
    "museums_df.to_csv('C:/Users/kahar/Documents/NSS/Capstone/low_cost_family_activities/Data/yelp_museums.csv')"
   ]
  },
  {
   "cell_type": "code",
   "execution_count": null,
   "id": "48ce555c",
   "metadata": {
    "scrolled": true
   },
   "outputs": [],
   "source": [
    "locations = ['Cheatham County, TN', 'Davidson County, TN', 'Dickson County, TN', 'Maury County, TN', 'Montgomery County, TN', 'Robertson County, TN', 'Rutherford County, TN', 'Sumner County, TN', 'Williamson County, TN', 'Wilson County, TN']\n",
    "group = np.arange(0,500,20)\n",
    "landmarks = []\n",
    "\n",
    "for location in locations:\n",
    "    for x in group:\n",
    "        response = yelp_api.search_query(term = 'landmarks', location = location, search_limit = 20, offset = x)\n",
    "        landmarks.append(response)\n",
    "        print(len(landmarks))"
   ]
  },
  {
   "cell_type": "code",
   "execution_count": null,
   "id": "fd870784",
   "metadata": {},
   "outputs": [],
   "source": [
    "landmarks_df = pd.DataFrame()\n",
    "\n",
    "for landmark in range(len(landmarks)):\n",
    "    df = pd.DataFrame(landmarks[landmark]['businesses'])\n",
    "    landmarks_df = landmarks_df.append(df)\n",
    "    print(landmarks_df.shape)"
   ]
  },
  {
   "cell_type": "code",
   "execution_count": null,
   "id": "e4e2c5aa",
   "metadata": {},
   "outputs": [],
   "source": [
    "landmarks_df = landmarks_df.reset_index(drop=True)   \n",
    "landmarks_df\n",
    "\n",
    "#seeing that most rows are not landmarks and have already been grabbed in museum search"
   ]
  },
  {
   "cell_type": "code",
   "execution_count": null,
   "id": "fb0a7d57",
   "metadata": {},
   "outputs": [],
   "source": [
    "locations = ['Cheatham County, TN', 'Davidson County, TN', 'Dickson County, TN', 'Maury County, TN', 'Montgomery County, TN', 'Robertson County, TN', 'Rutherford County, TN', 'Sumner County, TN', 'Williamson County, TN', 'Wilson County, TN']\n",
    "group = np.arange(0,500,20)\n",
    "libraries = []\n",
    "\n",
    "for location in locations:\n",
    "    for x in group:\n",
    "        response = yelp_api.search_query(term = 'libraries', location = location, search_limit = 20, offset = x)\n",
    "        libraries.append(response)\n",
    "        print(len(libraries))"
   ]
  },
  {
   "cell_type": "code",
   "execution_count": null,
   "id": "5b873347",
   "metadata": {},
   "outputs": [],
   "source": [
    "libraries_df = pd.DataFrame()\n",
    "\n",
    "for library in range(len(libraries)):\n",
    "    df = pd.DataFrame(libraries[library]['businesses'])\n",
    "    libraries_df = libraries_df.append(df)\n",
    "    print(libraries_df.shape)"
   ]
  },
  {
   "cell_type": "code",
   "execution_count": null,
   "id": "574f4447",
   "metadata": {
    "scrolled": true
   },
   "outputs": [],
   "source": [
    "libraries_df = libraries_df.drop_duplicates(subset = 'name', keep = 'first')  \n",
    "libraries_df = libraries_df.reset_index(drop=True)  \n",
    "libraries_df"
   ]
  },
  {
   "cell_type": "code",
   "execution_count": null,
   "id": "69260af0",
   "metadata": {},
   "outputs": [],
   "source": [
    "libraries_df[30:66]"
   ]
  },
  {
   "cell_type": "code",
   "execution_count": null,
   "id": "746a0f16",
   "metadata": {
    "scrolled": false
   },
   "outputs": [],
   "source": [
    "libraries_df = libraries_df.drop([36,37,38,40,41,42,43,44,45,46,47,48,49,50,51,52,53,54,60])\n",
    "libraries_df"
   ]
  },
  {
   "cell_type": "code",
   "execution_count": null,
   "id": "294c1384",
   "metadata": {},
   "outputs": [],
   "source": [
    "libraries_df = libraries_df.reset_index(drop=True)    #reset index and dropped previous index so it did not become a column\n",
    "libraries_df"
   ]
  },
  {
   "cell_type": "code",
   "execution_count": null,
   "id": "80f53cf5",
   "metadata": {
    "scrolled": false
   },
   "outputs": [],
   "source": [
    "libraries_df['category'] = 'library'\n",
    "libraries_df"
   ]
  },
  {
   "cell_type": "code",
   "execution_count": null,
   "id": "b0ef4c10",
   "metadata": {},
   "outputs": [],
   "source": [
    "libraries_df.to_csv('C:/Users/kahar/Documents/NSS/Capstone/low_cost_family_activities/Data/yelp_libraries.csv')"
   ]
  },
  {
   "cell_type": "code",
   "execution_count": null,
   "id": "4b7ff115",
   "metadata": {},
   "outputs": [],
   "source": [
    "locations = ['Cheatham County, TN', 'Davidson County, TN', 'Dickson County, TN', 'Maury County, TN', 'Montgomery County, TN', 'Robertson County, TN', 'Rutherford County, TN', 'Sumner County, TN', 'Williamson County, TN', 'Wilson County, TN']\n",
    "group = np.arange(0,500,20)\n",
    "arcades = []\n",
    "\n",
    "for location in locations:\n",
    "    for x in group:\n",
    "        response = yelp_api.search_query(term = 'arcades', location = location, search_limit = 20, offset = x)\n",
    "        arcades.append(response)\n",
    "        print(len(arcades))"
   ]
  },
  {
   "cell_type": "code",
   "execution_count": null,
   "id": "bb9fd84a",
   "metadata": {},
   "outputs": [],
   "source": [
    "arcades_df = pd.DataFrame()\n",
    "\n",
    "for arcade in range(len(arcades)):\n",
    "    df = pd.DataFrame(arcades[arcade]['businesses'])\n",
    "    arcades_df = arcades_df.append(df)\n",
    "    print(arcades_df.shape)"
   ]
  },
  {
   "cell_type": "code",
   "execution_count": null,
   "id": "d7d246ad",
   "metadata": {
    "scrolled": true
   },
   "outputs": [],
   "source": [
    "arcades_df = arcades_df.drop_duplicates(subset = 'name', keep = 'first')  \n",
    "arcades_df = arcades_df.reset_index(drop=True)  \n",
    "arcades_df"
   ]
  },
  {
   "cell_type": "code",
   "execution_count": null,
   "id": "7f78a9d9",
   "metadata": {},
   "outputs": [],
   "source": [
    "arcades_df[100:112]"
   ]
  },
  {
   "cell_type": "code",
   "execution_count": null,
   "id": "1830b106",
   "metadata": {
    "scrolled": false
   },
   "outputs": [],
   "source": [
    "arcades_df = arcades_df.drop([3,14,19,20,28,39,43,45,48,50,51,52,54,56,60,61,62,64,66,69,70,71,74,75,78,79,81,82,83,87,89,90,92,94,95,98,99,100,103,105])\n",
    "arcades_df"
   ]
  },
  {
   "cell_type": "code",
   "execution_count": null,
   "id": "b673205c",
   "metadata": {},
   "outputs": [],
   "source": [
    "arcades_df = arcades_df.reset_index(drop=True)    #reset index and dropped previous index so it did not become a column\n",
    "arcades_df"
   ]
  },
  {
   "cell_type": "code",
   "execution_count": null,
   "id": "a5a1f317",
   "metadata": {},
   "outputs": [],
   "source": [
    "arcades_df['category'] = 'other'\n",
    "arcades_df"
   ]
  },
  {
   "cell_type": "code",
   "execution_count": null,
   "id": "e5397c30",
   "metadata": {},
   "outputs": [],
   "source": [
    "arcades_df.to_csv('C:/Users/kahar/Documents/NSS/Capstone/low_cost_family_activities/Data/yelp_arcades.csv')"
   ]
  },
  {
   "cell_type": "code",
   "execution_count": null,
   "id": "4f44a383",
   "metadata": {},
   "outputs": [],
   "source": [
    "locations = ['Cheatham County, TN', 'Davidson County, TN', 'Dickson County, TN', 'Maury County, TN', 'Montgomery County, TN', 'Robertson County, TN', 'Rutherford County, TN', 'Sumner County, TN', 'Williamson County, TN', 'Wilson County, TN']\n",
    "group = np.arange(0,500,20)\n",
    "family_friendly = []\n",
    "\n",
    "for location in locations:\n",
    "    for x in group:\n",
    "        response = yelp_api.search_query(term = 'family_friendly', location = location, search_limit = 20, offset = x)\n",
    "        family_friendly.append(response)\n",
    "        print(len(family_friendly))"
   ]
  },
  {
   "cell_type": "code",
   "execution_count": null,
   "id": "bc384f45",
   "metadata": {},
   "outputs": [],
   "source": [
    "family_friendly_df = pd.DataFrame()\n",
    "\n",
    "for family_friend in range(len(family_friendly)):\n",
    "    df = pd.DataFrame(family_friendly[family_friend]['businesses'])\n",
    "    family_friendly_df = family_friendly_df.append(df)\n",
    "    print(family_friendly_df.shape)"
   ]
  },
  {
   "cell_type": "code",
   "execution_count": null,
   "id": "b18f38a2",
   "metadata": {},
   "outputs": [],
   "source": [
    "family_friendly_df = family_friendly_df.drop_duplicates(subset = 'name', keep = 'first')  \n",
    "family_friendly_df = family_friendly_df.reset_index(drop=True)  \n",
    "family_friendly_df"
   ]
  },
  {
   "cell_type": "code",
   "execution_count": null,
   "id": "c9a7651f",
   "metadata": {},
   "outputs": [],
   "source": [
    "family_friendly_df = family_friendly_df.drop([])\n",
    "family_friendly_df\n",
    "\n",
    "#not able to look through large df for this one. seeing restaurants, plumbing, mortage brokers. Will search just\n",
    "#restaurants instead to give the option for families"
   ]
  },
  {
   "cell_type": "code",
   "execution_count": null,
   "id": "70419ede",
   "metadata": {},
   "outputs": [],
   "source": [
    "locations = ['Cheatham County, TN', 'Davidson County, TN', 'Dickson County, TN', 'Maury County, TN', 'Montgomery County, TN', 'Robertson County, TN', 'Rutherford County, TN', 'Sumner County, TN', 'Williamson County, TN', 'Wilson County, TN']\n",
    "group = np.arange(0,500,20)\n",
    "family_deals = []\n",
    "\n",
    "for location in locations:\n",
    "    for x in group:\n",
    "        response = yelp_api.search_query(term = 'family_deals', location = location, search_limit = 20, offset = x)\n",
    "        family_deals.append(response)\n",
    "        print(len(family_deals))"
   ]
  },
  {
   "cell_type": "code",
   "execution_count": null,
   "id": "a6def21f",
   "metadata": {},
   "outputs": [],
   "source": [
    "family_deals_df = pd.DataFrame()\n",
    "\n",
    "for family_deal in range(len(family_deals)):\n",
    "    df = pd.DataFrame(family_deals[family_deal]['businesses'])\n",
    "    family_deals_df = family_deals_df.append(df)\n",
    "    print(family_deals_df.shape)"
   ]
  },
  {
   "cell_type": "code",
   "execution_count": null,
   "id": "2b338afc",
   "metadata": {},
   "outputs": [],
   "source": [
    "family_deals_df = family_deals_df.drop_duplicates(subset = 'name', keep = 'first')  \n",
    "family_deals_df = family_deals_df.reset_index(drop=True)  \n",
    "family_deals_df"
   ]
  },
  {
   "cell_type": "code",
   "execution_count": null,
   "id": "2cf5d774",
   "metadata": {},
   "outputs": [],
   "source": [
    "family_deals_df = family_deals_df.drop([])\n",
    "family_deals_df\n",
    "#most are restaurants for family deals so will not use this and again use the restaurant search instead."
   ]
  },
  {
   "cell_type": "code",
   "execution_count": null,
   "id": "23e12bc3",
   "metadata": {},
   "outputs": [],
   "source": [
    "locations = ['Cheatham County, TN', 'Davidson County, TN', 'Dickson County, TN', 'Maury County, TN', 'Montgomery County, TN', 'Robertson County, TN', 'Rutherford County, TN', 'Sumner County, TN', 'Williamson County, TN', 'Wilson County, TN']\n",
    "group = np.arange(0,500,20)\n",
    "children_free = []\n",
    "\n",
    "for location in locations:\n",
    "    for x in group:\n",
    "        response = yelp_api.search_query(term = 'children_free', location = location, search_limit = 20, offset = x)\n",
    "        children_free.append(response)\n",
    "        print(len(children_free))"
   ]
  },
  {
   "cell_type": "code",
   "execution_count": null,
   "id": "68913949",
   "metadata": {},
   "outputs": [],
   "source": [
    "children_free_df = pd.DataFrame()\n",
    "\n",
    "for children_fre in range(len(children_free)):\n",
    "    df = pd.DataFrame(children_free[children_fre]['businesses'])\n",
    "    children_free_df = children_free_df.append(df)\n",
    "    print(children_free_df.shape)"
   ]
  },
  {
   "cell_type": "code",
   "execution_count": null,
   "id": "0c4eb5f4",
   "metadata": {},
   "outputs": [],
   "source": [
    "children_free_df = children_free_df.drop_duplicates(subset = 'name', keep = 'first')  \n",
    "children_free_df = children_free_df.reset_index(drop=True)  \n",
    "children_free_df"
   ]
  },
  {
   "cell_type": "code",
   "execution_count": null,
   "id": "7e0cca01",
   "metadata": {
    "scrolled": true
   },
   "outputs": [],
   "source": [
    "children_free_df = children_free_df.drop([])\n",
    "children_free_df\n",
    "\n",
    "#not very helpful/does not seem to be children are free but a child care establishment. will not use but instead\n",
    "#search for childcare for families"
   ]
  },
  {
   "cell_type": "code",
   "execution_count": null,
   "id": "6c260e0e",
   "metadata": {},
   "outputs": [],
   "source": [
    "locations = ['Cheatham County, TN', 'Davidson County, TN', 'Dickson County, TN', 'Maury County, TN', 'Montgomery County, TN', 'Robertson County, TN', 'Rutherford County, TN', 'Sumner County, TN', 'Williamson County, TN', 'Wilson County, TN']\n",
    "group = np.arange(0,500,20)\n",
    "restaurants = []\n",
    "\n",
    "for location in locations:\n",
    "    for x in group:\n",
    "        response = yelp_api.search_query(term = 'restaurants', location = location, search_limit = 20, offset = x)\n",
    "        restaurants.append(response)\n",
    "        print(len(restaurants))"
   ]
  },
  {
   "cell_type": "code",
   "execution_count": null,
   "id": "20519cc7",
   "metadata": {},
   "outputs": [],
   "source": [
    "restaurants_df = pd.DataFrame()\n",
    "\n",
    "for restaurant in range(len(restaurants)):\n",
    "    df = pd.DataFrame(restaurants[restaurant]['businesses'])\n",
    "    restaurants_df = restaurants_df.append(df)\n",
    "    print(restaurants_df.shape)"
   ]
  },
  {
   "cell_type": "code",
   "execution_count": null,
   "id": "29b372cd",
   "metadata": {},
   "outputs": [],
   "source": [
    "restaurants_df = restaurants_df.drop_duplicates(subset = 'name', keep = 'first')  \n",
    "restaurants_df = restaurants_df.reset_index(drop=True)  \n",
    "restaurants_df"
   ]
  },
  {
   "cell_type": "code",
   "execution_count": null,
   "id": "06ea20de",
   "metadata": {},
   "outputs": [],
   "source": [
    "restaurants_df = restaurants_df.drop([])\n",
    "restaurants_df\n",
    "\n",
    "#quick look, assuming all are restaurants. too large to go through."
   ]
  },
  {
   "cell_type": "code",
   "execution_count": null,
   "id": "c0ff51a6",
   "metadata": {},
   "outputs": [],
   "source": [
    "restaurants_df = restaurants_df.reset_index(drop=True)    #reset index and dropped previous index so it did not become a column\n",
    "restaurants_df"
   ]
  },
  {
   "cell_type": "code",
   "execution_count": null,
   "id": "2857ee1a",
   "metadata": {},
   "outputs": [],
   "source": [
    "restaurants_df['category'] = 'restaurant'\n",
    "restaurants_df"
   ]
  },
  {
   "cell_type": "code",
   "execution_count": null,
   "id": "f9a0cddf",
   "metadata": {},
   "outputs": [],
   "source": [
    "restaurants_df.to_csv('C:/Users/kahar/Documents/NSS/Capstone/low_cost_family_activities/Data/yelp_restaurants.csv')"
   ]
  },
  {
   "cell_type": "code",
   "execution_count": null,
   "id": "b8f98618",
   "metadata": {},
   "outputs": [],
   "source": [
    "locations = ['Cheatham County, TN', 'Davidson County, TN', 'Dickson County, TN', 'Maury County, TN', 'Montgomery County, TN', 'Robertson County, TN', 'Rutherford County, TN', 'Sumner County, TN', 'Williamson County, TN', 'Wilson County, TN']\n",
    "group = np.arange(0,500,20)\n",
    "childcare = []\n",
    "\n",
    "for location in locations:\n",
    "    for x in group:\n",
    "        response = yelp_api.search_query(term = 'childcare', location = location, search_limit = 20, offset = x)\n",
    "        childcare.append(response)\n",
    "        print(len(childcare))"
   ]
  },
  {
   "cell_type": "code",
   "execution_count": null,
   "id": "d972d672",
   "metadata": {},
   "outputs": [],
   "source": [
    "childcare_df = pd.DataFrame()\n",
    "\n",
    "for childcar in range(len(childcare)):\n",
    "    df = pd.DataFrame(childcare[childcar]['businesses'])\n",
    "    childcare_df = childcare_df.append(df)\n",
    "    print(childcare_df.shape)"
   ]
  },
  {
   "cell_type": "code",
   "execution_count": null,
   "id": "d8cca387",
   "metadata": {
    "scrolled": true
   },
   "outputs": [],
   "source": [
    "childcare_df = childcare_df.drop_duplicates(subset = 'name', keep = 'first')  \n",
    "childcare_df = childcare_df.reset_index(drop=True)  \n",
    "childcare_df"
   ]
  },
  {
   "cell_type": "code",
   "execution_count": null,
   "id": "0f9f42a1",
   "metadata": {},
   "outputs": [],
   "source": [
    "childcare_df[0:50]"
   ]
  },
  {
   "cell_type": "code",
   "execution_count": null,
   "id": "081f8421",
   "metadata": {
    "scrolled": false
   },
   "outputs": [],
   "source": [
    "childcare_df = childcare_df.drop([30,53,56,64,67,75,77,79])\n",
    "childcare_df"
   ]
  },
  {
   "cell_type": "code",
   "execution_count": null,
   "id": "843bb0f7",
   "metadata": {},
   "outputs": [],
   "source": [
    "childcare_df = childcare_df.reset_index(drop=True)    #reset index and dropped previous index so it did not become a column\n",
    "childcare_df"
   ]
  },
  {
   "cell_type": "code",
   "execution_count": null,
   "id": "c477d336",
   "metadata": {
    "scrolled": true
   },
   "outputs": [],
   "source": [
    "childcare_df['category'] = 'childcare'\n",
    "childcare_df"
   ]
  },
  {
   "cell_type": "code",
   "execution_count": null,
   "id": "9b35d0d7",
   "metadata": {},
   "outputs": [],
   "source": [
    "childcare_df.to_csv('C:/Users/kahar/Documents/NSS/Capstone/low_cost_family_activities/Data/yelp_childcare.csv')"
   ]
  },
  {
   "cell_type": "code",
   "execution_count": null,
   "id": "02030580",
   "metadata": {},
   "outputs": [],
   "source": [
    "locations = ['Cheatham County, TN', 'Davidson County, TN', 'Dickson County, TN', 'Maury County, TN', 'Montgomery County, TN', 'Robertson County, TN', 'Rutherford County, TN', 'Sumner County, TN', 'Williamson County, TN', 'Wilson County, TN']\n",
    "group = np.arange(0,500,20)\n",
    "movie_theaters = []\n",
    "\n",
    "for location in locations:\n",
    "    for x in group:\n",
    "        response = yelp_api.search_query(term = 'movie theater', location = location, search_limit = 20, offset = x)\n",
    "        movie_theaters.append(response)\n",
    "        print(len(movie_theaters))"
   ]
  },
  {
   "cell_type": "code",
   "execution_count": null,
   "id": "9161fe4b",
   "metadata": {},
   "outputs": [],
   "source": [
    "movie_theaters_df = pd.DataFrame()\n",
    "\n",
    "for movie_theater in range(len(movie_theaters)):\n",
    "    df = pd.DataFrame(movie_theaters[movie_theater]['businesses'])\n",
    "    movie_theaters_df = movie_theaters_df.append(df)\n",
    "    print(movie_theaters_df.shape)"
   ]
  },
  {
   "cell_type": "code",
   "execution_count": null,
   "id": "2ff4e475",
   "metadata": {
    "scrolled": true
   },
   "outputs": [],
   "source": [
    "movie_theaters_df = movie_theaters_df.drop_duplicates(subset = 'name', keep = 'first')  \n",
    "movie_theaters_df = movie_theaters_df.reset_index(drop=True)  \n",
    "movie_theaters_df"
   ]
  },
  {
   "cell_type": "code",
   "execution_count": null,
   "id": "f6efc70d",
   "metadata": {},
   "outputs": [],
   "source": [
    "movie_theaters_df[50:88]"
   ]
  },
  {
   "cell_type": "code",
   "execution_count": null,
   "id": "0a84bf43",
   "metadata": {
    "scrolled": true
   },
   "outputs": [],
   "source": [
    "movie_theaters_df = movie_theaters_df.drop([30,31,35,39,40,42,43,44,45,46,47,48,49,50,51,52,53,55,57,59,60,61,62,63,74,79])\n",
    "movie_theaters_df"
   ]
  },
  {
   "cell_type": "code",
   "execution_count": null,
   "id": "e72f6512",
   "metadata": {},
   "outputs": [],
   "source": [
    "movie_theaters_df = movie_theaters_df.reset_index(drop=True)    #reset index and dropped previous index so it did not become a column\n",
    "movie_theaters_df"
   ]
  },
  {
   "cell_type": "code",
   "execution_count": null,
   "id": "fa931e76",
   "metadata": {},
   "outputs": [],
   "source": [
    "movie_theaters_df['category'] = 'theater'\n",
    "movie_theaters_df"
   ]
  },
  {
   "cell_type": "code",
   "execution_count": null,
   "id": "27654783",
   "metadata": {},
   "outputs": [],
   "source": [
    "movie_theaters_df.to_csv('C:/Users/kahar/Documents/NSS/Capstone/low_cost_family_activities/Data/yelp_movie_theaters.csv')"
   ]
  },
  {
   "cell_type": "code",
   "execution_count": null,
   "id": "86efcef7",
   "metadata": {
    "scrolled": true
   },
   "outputs": [],
   "source": [
    "dflist = [parks_df, museums_df, libraries_df, arcades_df, restaurants_df, childcare_df,movie_theaters_df]\n",
    "\n",
    "places_df = pd.concat(dflist)\n",
    "places_df"
   ]
  },
  {
   "cell_type": "code",
   "execution_count": null,
   "id": "cb2e985a",
   "metadata": {
    "scrolled": true
   },
   "outputs": [],
   "source": [
    "places_df = places_df.drop_duplicates(subset = 'name', keep = 'first')  \n",
    "places_df = places_df.reset_index(drop=True)\n",
    "places_df['zipcode'] = places_df.location.str[-8:-3]\n",
    "places_df"
   ]
  },
  {
   "cell_type": "code",
   "execution_count": null,
   "id": "92ac9326",
   "metadata": {
    "scrolled": true
   },
   "outputs": [],
   "source": [
    "places_df.to_csv('C:/Users/kahar/Documents/NSS/Capstone/low_cost_family_activities/Data/yelp_places.csv')"
   ]
  },
  {
   "cell_type": "code",
   "execution_count": null,
   "id": "8a2761d7",
   "metadata": {},
   "outputs": [],
   "source": [
    "pov_data.to_csv('C:/Users/kahar/Documents/NSS/Capstone/low_cost_family_activities/Data/pov_data.csv')"
   ]
  }
 ],
 "metadata": {
  "kernelspec": {
   "display_name": "Python 3 (ipykernel)",
   "language": "python",
   "name": "python3"
  },
  "language_info": {
   "codemirror_mode": {
    "name": "ipython",
    "version": 3
   },
   "file_extension": ".py",
   "mimetype": "text/x-python",
   "name": "python",
   "nbconvert_exporter": "python",
   "pygments_lexer": "ipython3",
   "version": "3.9.7"
  }
 },
 "nbformat": 4,
 "nbformat_minor": 5
}
