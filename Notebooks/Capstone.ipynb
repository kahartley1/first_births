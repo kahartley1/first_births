{
 "cells": [
  {
   "cell_type": "code",
   "execution_count": null,
   "id": "74291c56",
   "metadata": {},
   "outputs": [],
   "source": [
    "import pandas as pd\n",
    "import re \n",
    "import numpy as np\n",
    "import matplotlib.pyplot as plt\n",
    "import seaborn as sns\n",
    "import fnmatch\n",
    "from yelpapi import YelpAPI\n",
    "import json\n",
    "from decimal import *\n",
    "\n",
    "%matplotlib inline"
   ]
  },
  {
   "cell_type": "code",
   "execution_count": null,
   "id": "746a0081",
   "metadata": {
    "scrolled": false
   },
   "outputs": [],
   "source": [
    "pov_data = pd.read_excel('../Data/poverty_rates.xlsx', sheet_name = 'Percents', header = 2)\n",
    "pov_data"
   ]
  },
  {
   "cell_type": "code",
   "execution_count": null,
   "id": "07c59e42",
   "metadata": {
    "scrolled": false
   },
   "outputs": [],
   "source": [
    "pov_data.info()"
   ]
  },
  {
   "cell_type": "code",
   "execution_count": null,
   "id": "e4c8eddf",
   "metadata": {
    "scrolled": true
   },
   "outputs": [],
   "source": [
    "pov_data[['Cheatham County, TN', 'Error', 'Davidson County, TN', 'Error.1', 'Dickson County, TN', 'Error.2', 'Maury County, TN', 'Error.3', 'Montgomery County, TN', 'Error.4', 'Robertson County, TN', 'Error.5', 'Rutherford County, TN', 'Error.6', 'Sumner County, TN', 'Error.7', 'Williamson County, TN', 'Error.8', 'Wilson County, TN', 'Error.9']] = pov_data[['Cheatham County, TN', 'Error', 'Davidson County, TN', 'Error.1', 'Dickson County, TN', 'Error.2', 'Maury County, TN', 'Error.3', 'Montgomery County, TN', 'Error.4', 'Robertson County, TN', 'Error.5', 'Rutherford County, TN', 'Error.6', 'Sumner County, TN', 'Error.7', 'Williamson County, TN', 'Error.8', 'Wilson County, TN', 'Error.9']].apply(lambda x: x*100)\n",
    "pov_data"
   ]
  },
  {
   "cell_type": "code",
   "execution_count": null,
   "id": "930c9c70",
   "metadata": {},
   "outputs": [],
   "source": [
    "pov_data.round(2)"
   ]
  },
  {
   "cell_type": "code",
   "execution_count": null,
   "id": "ca84d249",
   "metadata": {},
   "outputs": [],
   "source": [
    "with open('keys.json') as fi:\n",
    "    credentials = json.load(fi)"
   ]
  },
  {
   "cell_type": "code",
   "execution_count": null,
   "id": "87d6976e",
   "metadata": {},
   "outputs": [],
   "source": [
    "api_key = credentials['yelp_key']\n",
    "client_id = credentials['yelp_id']"
   ]
  },
  {
   "cell_type": "code",
   "execution_count": null,
   "id": "16427d8e",
   "metadata": {},
   "outputs": [],
   "source": [
    "yelp_api = YelpAPI(api_key)\n",
    "response = yelp_api.search_query(term = 'park', location = 'Wilson County, TN', search_limit = 200)\n",
    "response"
   ]
  },
  {
   "cell_type": "code",
   "execution_count": null,
   "id": "5b61dad4",
   "metadata": {},
   "outputs": [],
   "source": [
    "cols = list(response['businesses'][0].keys())\n",
    "data = pd.DataFrame(columns=cols)\n",
    "\n",
    "for biz in response['businesses']:\n",
    "    data = data.append(biz, ignore_index=True)\n",
    "                    \n",
    "data.head(50)   #has 20 parks no matter limit is 100 or 200"
   ]
  },
  {
   "cell_type": "code",
   "execution_count": null,
   "id": "2f16ff37",
   "metadata": {},
   "outputs": [],
   "source": []
  }
 ],
 "metadata": {
  "kernelspec": {
   "display_name": "Python 3 (ipykernel)",
   "language": "python",
   "name": "python3"
  },
  "language_info": {
   "codemirror_mode": {
    "name": "ipython",
    "version": 3
   },
   "file_extension": ".py",
   "mimetype": "text/x-python",
   "name": "python",
   "nbconvert_exporter": "python",
   "pygments_lexer": "ipython3",
   "version": "3.9.7"
  }
 },
 "nbformat": 4,
 "nbformat_minor": 5
}
